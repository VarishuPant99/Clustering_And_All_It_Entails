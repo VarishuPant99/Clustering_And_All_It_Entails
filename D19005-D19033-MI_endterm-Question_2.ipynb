{
 "cells": [
  {
   "cell_type": "markdown",
   "metadata": {},
   "source": [
    "**Ankit Sekseria**<br>\n",
    "**D19005**<br>\n",
    "**Varishu Pant**<br>\n",
    "**D19033**"
   ]
  },
  {
   "cell_type": "markdown",
   "metadata": {},
   "source": [
    "## Question 2:\n",
    "*Read the context carefully:*<br>\n",
    "Thus far, in all cluster analysis examples we have used Euclidean distance as the dissimilarity measure. But sometimes other dissimilarity measures might be preferred. For example, correlation-based distance considers two observations to be similar if their features are highly correlated, even though the observed values may be far apart in terms of Euclidean distance. This is an unusual use of correlation, which is normally computed between variables; here it is computed between the observation profiles for each pair of observations. The following figure illustrates the difference between Euclidean and correlation-based distance.\n",
    "Correlation-based distance focuses on the shapes of observation profiles rather than their magnitudes. The choice of dissimilarity measure is very important, as it has a strong effect on the resulting dendrogram. In general, careful attention should be paid to the type of data being clustered and the scientific question at hand. These considerations should determine what type of dissimilarity measure is used for hierarchical clustering.\n",
    "\n",
    "For instance, consider an online retailer interested in clustering shoppers based on their past shopping histories. The goal is to identify subgroups of similar shoppers, so that shoppers within each subgroup can be show items and advertisements that are particularly likely to interest them. Suppose the data takes the form of a matrix where the rows are the shoppers and the columns are the items available for purchase; the elements of the data matrix indicate the number of times a given shopper has purchased a given item (i.e. a 0 if the shopper has never purchased this item, a 1 if the shopper has purchased it once, etc.) What type of dissimilarity measure should be used to cluster the shoppers? If Euclidean distance is used, then shoppers who have bought very few items overall (i.e. infrequent users of the online shopping site) will be clustered together. This may not be desirable. On the other hand, if correlation-based distance is used, then shoppers with similar preferences (e.g. shoppers who have bought items A and B but never items C or D) will be clustered together, even if some shoppers with these preferences are higher-volume shoppers than others. Therefore, for this application, correlation-based distance may be a better choice<br>\n",
    "*Based on the idea presented elaborate and simplify the example provided about online retail*"
   ]
  },
  {
   "cell_type": "code",
   "execution_count": 1,
   "metadata": {},
   "outputs": [],
   "source": [
    "# Importing Required Libraries\n",
    "import pandas as pd \n",
    "import numpy as np\n",
    "from sklearn.cluster import AgglomerativeClustering \n",
    "from scipy.cluster import hierarchy as hi\n",
    "import matplotlib.pyplot as plt\n",
    "import seaborn as sns\n",
    "from sklearn.metrics.pairwise import pairwise_distances\n",
    "from sklearn.preprocessing import scale"
   ]
  },
  {
   "cell_type": "markdown",
   "metadata": {},
   "source": [
    "### Reading Created Data"
   ]
  },
  {
   "cell_type": "code",
   "execution_count": 402,
   "metadata": {},
   "outputs": [],
   "source": [
    "data=pd.read_excel(r'D:\\Praxis docs\\stats\\created_data.xlsx')"
   ]
  },
  {
   "cell_type": "code",
   "execution_count": 403,
   "metadata": {},
   "outputs": [],
   "source": [
    "data.drop('Customers',inplace=True,axis=1)"
   ]
  },
  {
   "cell_type": "code",
   "execution_count": 17,
   "metadata": {},
   "outputs": [
    {
     "data": {
      "text/html": [
       "<div>\n",
       "<style scoped>\n",
       "    .dataframe tbody tr th:only-of-type {\n",
       "        vertical-align: middle;\n",
       "    }\n",
       "\n",
       "    .dataframe tbody tr th {\n",
       "        vertical-align: top;\n",
       "    }\n",
       "\n",
       "    .dataframe thead th {\n",
       "        text-align: right;\n",
       "    }\n",
       "</style>\n",
       "<table border=\"1\" class=\"dataframe\">\n",
       "  <thead>\n",
       "    <tr style=\"text-align: right;\">\n",
       "      <th></th>\n",
       "      <th>Smartphone</th>\n",
       "      <th>Charger</th>\n",
       "      <th>Laptop</th>\n",
       "      <th>Back Cover</th>\n",
       "      <th>Headphones</th>\n",
       "    </tr>\n",
       "  </thead>\n",
       "  <tbody>\n",
       "    <tr>\n",
       "      <td>0</td>\n",
       "      <td>80</td>\n",
       "      <td>63</td>\n",
       "      <td>1</td>\n",
       "      <td>3</td>\n",
       "      <td>8</td>\n",
       "    </tr>\n",
       "    <tr>\n",
       "      <td>1</td>\n",
       "      <td>141</td>\n",
       "      <td>135</td>\n",
       "      <td>320</td>\n",
       "      <td>280</td>\n",
       "      <td>20</td>\n",
       "    </tr>\n",
       "    <tr>\n",
       "      <td>2</td>\n",
       "      <td>650</td>\n",
       "      <td>35</td>\n",
       "      <td>18</td>\n",
       "      <td>120</td>\n",
       "      <td>450</td>\n",
       "    </tr>\n",
       "    <tr>\n",
       "      <td>3</td>\n",
       "      <td>560</td>\n",
       "      <td>180</td>\n",
       "      <td>40</td>\n",
       "      <td>183</td>\n",
       "      <td>430</td>\n",
       "    </tr>\n",
       "    <tr>\n",
       "      <td>4</td>\n",
       "      <td>150</td>\n",
       "      <td>169</td>\n",
       "      <td>370</td>\n",
       "      <td>490</td>\n",
       "      <td>89</td>\n",
       "    </tr>\n",
       "  </tbody>\n",
       "</table>\n",
       "</div>"
      ],
      "text/plain": [
       "   Smartphone  Charger  Laptop  Back Cover  Headphones\n",
       "0          80       63       1           3           8\n",
       "1         141      135     320         280          20\n",
       "2         650       35      18         120         450\n",
       "3         560      180      40         183         430\n",
       "4         150      169     370         490          89"
      ]
     },
     "execution_count": 17,
     "metadata": {},
     "output_type": "execute_result"
    }
   ],
   "source": [
    "data.head()"
   ]
  },
  {
   "cell_type": "markdown",
   "metadata": {},
   "source": [
    "### Dendrogram to visualise clusters"
   ]
  },
  {
   "cell_type": "code",
   "execution_count": 666,
   "metadata": {},
   "outputs": [
    {
     "data": {
      "image/png": "[encoded data removed]",
      "text/plain": [
       "<Figure size 576x360 with 1 Axes>"
      ]
     },
     "metadata": {
      "needs_background": "light"
     },
     "output_type": "display_data"
    }
   ],
   "source": [
    "dist_mat=hi.linkage(data, method  = \"complete\",metric='euclidean',optimal_ordering=True) #dendogram and linkage\n",
    "dendrogram = hi.dendrogram(dist_mat)\n",
    "plt.title('Dendrogram')\n",
    "plt.xlabel('Customers')\n",
    "plt.axhline(y=600, color='r', linestyle='--')\n",
    "plt.ylabel('Euclidean distances')\n",
    "plt.show()"
   ]
  },
  {
   "cell_type": "markdown",
   "metadata": {},
   "source": [
    "**Cutting dendrogram-**\n",
    "We cut the dendrogram to get 5 clusters"
   ]
  },
  {
   "cell_type": "markdown",
   "metadata": {},
   "source": [
    "### Fitting 2 models using different distance measures"
   ]
  },
  {
   "cell_type": "markdown",
   "metadata": {},
   "source": [
    "**Making correlation matrix that gives correlation based distance between observations (customers)**"
   ]
  },
  {
   "cell_type": "code",
   "execution_count": 644,
   "metadata": {},
   "outputs": [],
   "source": [
    "df=data.T.corr() #correlation matrix"
   ]
  },
  {
   "cell_type": "code",
   "execution_count": 645,
   "metadata": {},
   "outputs": [
    {
     "data": {
      "text/plain": [
       "(20, 20)"
      ]
     },
     "execution_count": 645,
     "metadata": {},
     "output_type": "execute_result"
    }
   ],
   "source": [
    "df.shape"
   ]
  },
  {
   "cell_type": "code",
   "execution_count": 646,
   "metadata": {},
   "outputs": [
    {
     "data": {
      "text/html": [
       "<div>\n",
       "<style scoped>\n",
       "    .dataframe tbody tr th:only-of-type {\n",
       "        vertical-align: middle;\n",
       "    }\n",
       "\n",
       "    .dataframe tbody tr th {\n",
       "        vertical-align: top;\n",
       "    }\n",
       "\n",
       "    .dataframe thead th {\n",
       "        text-align: right;\n",
       "    }\n",
       "</style>\n",
       "<table border=\"1\" class=\"dataframe\">\n",
       "  <thead>\n",
       "    <tr style=\"text-align: right;\">\n",
       "      <th></th>\n",
       "      <th>0</th>\n",
       "      <th>1</th>\n",
       "      <th>2</th>\n",
       "      <th>3</th>\n",
       "      <th>4</th>\n",
       "      <th>5</th>\n",
       "      <th>6</th>\n",
       "      <th>7</th>\n",
       "      <th>8</th>\n",
       "      <th>9</th>\n",
       "      <th>10</th>\n",
       "      <th>11</th>\n",
       "      <th>12</th>\n",
       "      <th>13</th>\n",
       "      <th>14</th>\n",
       "      <th>15</th>\n",
       "      <th>16</th>\n",
       "      <th>17</th>\n",
       "      <th>18</th>\n",
       "      <th>19</th>\n",
       "    </tr>\n",
       "  </thead>\n",
       "  <tbody>\n",
       "    <tr>\n",
       "      <td>0</td>\n",
       "      <td>1.000000</td>\n",
       "      <td>-0.101742</td>\n",
       "      <td>0.512997</td>\n",
       "      <td>0.604868</td>\n",
       "      <td>-0.245587</td>\n",
       "      <td>-0.566904</td>\n",
       "      <td>0.557822</td>\n",
       "      <td>-0.443535</td>\n",
       "      <td>-0.159154</td>\n",
       "      <td>-0.190583</td>\n",
       "      <td>0.987796</td>\n",
       "      <td>0.052520</td>\n",
       "      <td>-0.233723</td>\n",
       "      <td>0.510471</td>\n",
       "      <td>0.905605</td>\n",
       "      <td>0.278761</td>\n",
       "      <td>-0.316837</td>\n",
       "      <td>0.117344</td>\n",
       "      <td>0.557935</td>\n",
       "      <td>0.978245</td>\n",
       "    </tr>\n",
       "    <tr>\n",
       "      <td>1</td>\n",
       "      <td>-0.101742</td>\n",
       "      <td>1.000000</td>\n",
       "      <td>-0.256402</td>\n",
       "      <td>-0.225040</td>\n",
       "      <td>0.934169</td>\n",
       "      <td>0.809042</td>\n",
       "      <td>-0.102393</td>\n",
       "      <td>0.800183</td>\n",
       "      <td>-0.011047</td>\n",
       "      <td>0.218006</td>\n",
       "      <td>-0.001350</td>\n",
       "      <td>0.561230</td>\n",
       "      <td>0.294652</td>\n",
       "      <td>-0.237987</td>\n",
       "      <td>-0.009439</td>\n",
       "      <td>0.418085</td>\n",
       "      <td>-0.015946</td>\n",
       "      <td>0.451403</td>\n",
       "      <td>-0.354300</td>\n",
       "      <td>-0.101239</td>\n",
       "    </tr>\n",
       "    <tr>\n",
       "      <td>2</td>\n",
       "      <td>0.512997</td>\n",
       "      <td>-0.256402</td>\n",
       "      <td>1.000000</td>\n",
       "      <td>0.969968</td>\n",
       "      <td>-0.241932</td>\n",
       "      <td>-0.339940</td>\n",
       "      <td>0.957363</td>\n",
       "      <td>-0.396564</td>\n",
       "      <td>0.524970</td>\n",
       "      <td>0.296049</td>\n",
       "      <td>0.487342</td>\n",
       "      <td>-0.397371</td>\n",
       "      <td>0.395796</td>\n",
       "      <td>0.996027</td>\n",
       "      <td>0.246376</td>\n",
       "      <td>-0.272652</td>\n",
       "      <td>0.413650</td>\n",
       "      <td>-0.421544</td>\n",
       "      <td>0.983785</td>\n",
       "      <td>0.601585</td>\n",
       "    </tr>\n",
       "    <tr>\n",
       "      <td>3</td>\n",
       "      <td>0.604868</td>\n",
       "      <td>-0.225040</td>\n",
       "      <td>0.969968</td>\n",
       "      <td>1.000000</td>\n",
       "      <td>-0.185785</td>\n",
       "      <td>-0.309417</td>\n",
       "      <td>0.971243</td>\n",
       "      <td>-0.338670</td>\n",
       "      <td>0.579977</td>\n",
       "      <td>0.397960</td>\n",
       "      <td>0.580517</td>\n",
       "      <td>-0.318301</td>\n",
       "      <td>0.455486</td>\n",
       "      <td>0.952821</td>\n",
       "      <td>0.419125</td>\n",
       "      <td>-0.157455</td>\n",
       "      <td>0.463364</td>\n",
       "      <td>-0.316446</td>\n",
       "      <td>0.982011</td>\n",
       "      <td>0.712662</td>\n",
       "    </tr>\n",
       "    <tr>\n",
       "      <td>4</td>\n",
       "      <td>-0.245587</td>\n",
       "      <td>0.934169</td>\n",
       "      <td>-0.241932</td>\n",
       "      <td>-0.185785</td>\n",
       "      <td>1.000000</td>\n",
       "      <td>0.920302</td>\n",
       "      <td>-0.115889</td>\n",
       "      <td>0.948708</td>\n",
       "      <td>0.273159</td>\n",
       "      <td>0.512564</td>\n",
       "      <td>-0.177821</td>\n",
       "      <td>0.348834</td>\n",
       "      <td>0.542721</td>\n",
       "      <td>-0.251686</td>\n",
       "      <td>-0.116459</td>\n",
       "      <td>0.201150</td>\n",
       "      <td>0.253827</td>\n",
       "      <td>0.249098</td>\n",
       "      <td>-0.334886</td>\n",
       "      <td>-0.180151</td>\n",
       "    </tr>\n",
       "  </tbody>\n",
       "</table>\n",
       "</div>"
      ],
      "text/plain": [
       "         0         1         2         3         4         5         6   \\\n",
       "0  1.000000 -0.101742  0.512997  0.604868 -0.245587 -0.566904  0.557822   \n",
       "1 -0.101742  1.000000 -0.256402 -0.225040  0.934169  0.809042 -0.102393   \n",
       "2  0.512997 -0.256402  1.000000  0.969968 -0.241932 -0.339940  0.957363   \n",
       "3  0.604868 -0.225040  0.969968  1.000000 -0.185785 -0.309417  0.971243   \n",
       "4 -0.245587  0.934169 -0.241932 -0.185785  1.000000  0.920302 -0.115889   \n",
       "\n",
       "         7         8         9         10        11        12        13  \\\n",
       "0 -0.443535 -0.159154 -0.190583  0.987796  0.052520 -0.233723  0.510471   \n",
       "1  0.800183 -0.011047  0.218006 -0.001350  0.561230  0.294652 -0.237987   \n",
       "2 -0.396564  0.524970  0.296049  0.487342 -0.397371  0.395796  0.996027   \n",
       "3 -0.338670  0.579977  0.397960  0.580517 -0.318301  0.455486  0.952821   \n",
       "4  0.948708  0.273159  0.512564 -0.177821  0.348834  0.542721 -0.251686   \n",
       "\n",
       "         14        15        16        17        18        19  \n",
       "0  0.905605  0.278761 -0.316837  0.117344  0.557935  0.978245  \n",
       "1 -0.009439  0.418085 -0.015946  0.451403 -0.354300 -0.101239  \n",
       "2  0.246376 -0.272652  0.413650 -0.421544  0.983785  0.601585  \n",
       "3  0.419125 -0.157455  0.463364 -0.316446  0.982011  0.712662  \n",
       "4 -0.116459  0.201150  0.253827  0.249098 -0.334886 -0.180151  "
      ]
     },
     "execution_count": 646,
     "metadata": {},
     "output_type": "execute_result"
    }
   ],
   "source": [
    "df.head()"
   ]
  },
  {
   "cell_type": "markdown",
   "metadata": {},
   "source": [
    "**Giving correlation matrix for fitting agglomerative model**"
   ]
  },
  {
   "cell_type": "code",
   "execution_count": 647,
   "metadata": {},
   "outputs": [],
   "source": [
    "cluster = AgglomerativeClustering(n_clusters=5, affinity='euclidean', linkage='complete')  \n",
    "cluster.fit(df) #fitting on correlation matrix\n",
    "data['Cluster']=cluster.labels_"
   ]
  },
  {
   "cell_type": "markdown",
   "metadata": {},
   "source": [
    "**Looking at the distribution of clusters**"
   ]
  },
  {
   "cell_type": "code",
   "execution_count": 648,
   "metadata": {},
   "outputs": [
    {
     "name": "stdout",
     "output_type": "stream",
     "text": [
      "Customers in Cluster 0:\n"
     ]
    },
    {
     "data": {
      "text/html": [
       "<div>\n",
       "<style scoped>\n",
       "    .dataframe tbody tr th:only-of-type {\n",
       "        vertical-align: middle;\n",
       "    }\n",
       "\n",
       "    .dataframe tbody tr th {\n",
       "        vertical-align: top;\n",
       "    }\n",
       "\n",
       "    .dataframe thead th {\n",
       "        text-align: right;\n",
       "    }\n",
       "</style>\n",
       "<table border=\"1\" class=\"dataframe\">\n",
       "  <thead>\n",
       "    <tr style=\"text-align: right;\">\n",
       "      <th></th>\n",
       "      <th>1</th>\n",
       "      <th>4</th>\n",
       "      <th>5</th>\n",
       "      <th>7</th>\n",
       "    </tr>\n",
       "  </thead>\n",
       "  <tbody>\n",
       "    <tr>\n",
       "      <td>Smartphone</td>\n",
       "      <td>141</td>\n",
       "      <td>150</td>\n",
       "      <td>10</td>\n",
       "      <td>0</td>\n",
       "    </tr>\n",
       "  </tbody>\n",
       "</table>\n",
       "</div>"
      ],
      "text/plain": [
       "              1    4   5  7\n",
       "Smartphone  141  150  10  0"
      ]
     },
     "execution_count": 648,
     "metadata": {},
     "output_type": "execute_result"
    }
   ],
   "source": [
    "print('Customers in Cluster 0:')\n",
    "pd.DataFrame(data.iloc[np.where(data.loc[:,'Cluster']==0)].iloc[:,0]).T "
   ]
  },
  {
   "cell_type": "code",
   "execution_count": 649,
   "metadata": {},
   "outputs": [
    {
     "name": "stdout",
     "output_type": "stream",
     "text": [
      "Customers in Cluster 1:\n"
     ]
    },
    {
     "data": {
      "text/html": [
       "<div>\n",
       "<style scoped>\n",
       "    .dataframe tbody tr th:only-of-type {\n",
       "        vertical-align: middle;\n",
       "    }\n",
       "\n",
       "    .dataframe tbody tr th {\n",
       "        vertical-align: top;\n",
       "    }\n",
       "\n",
       "    .dataframe thead th {\n",
       "        text-align: right;\n",
       "    }\n",
       "</style>\n",
       "<table border=\"1\" class=\"dataframe\">\n",
       "  <thead>\n",
       "    <tr style=\"text-align: right;\">\n",
       "      <th></th>\n",
       "      <th>0</th>\n",
       "      <th>10</th>\n",
       "      <th>14</th>\n",
       "      <th>19</th>\n",
       "    </tr>\n",
       "  </thead>\n",
       "  <tbody>\n",
       "    <tr>\n",
       "      <td>Smartphone</td>\n",
       "      <td>80</td>\n",
       "      <td>254</td>\n",
       "      <td>102</td>\n",
       "      <td>121</td>\n",
       "    </tr>\n",
       "  </tbody>\n",
       "</table>\n",
       "</div>"
      ],
      "text/plain": [
       "            0    10   14   19\n",
       "Smartphone  80  254  102  121"
      ]
     },
     "execution_count": 649,
     "metadata": {},
     "output_type": "execute_result"
    }
   ],
   "source": [
    "print('Customers in Cluster 1:')\n",
    "pd.DataFrame(data.iloc[np.where(data.loc[:,'Cluster']==1)].iloc[:,0]).T"
   ]
  },
  {
   "cell_type": "code",
   "execution_count": 650,
   "metadata": {},
   "outputs": [
    {
     "name": "stdout",
     "output_type": "stream",
     "text": [
      "Customers in Cluster 2:\n"
     ]
    },
    {
     "data": {
      "text/html": [
       "<div>\n",
       "<style scoped>\n",
       "    .dataframe tbody tr th:only-of-type {\n",
       "        vertical-align: middle;\n",
       "    }\n",
       "\n",
       "    .dataframe tbody tr th {\n",
       "        vertical-align: top;\n",
       "    }\n",
       "\n",
       "    .dataframe thead th {\n",
       "        text-align: right;\n",
       "    }\n",
       "</style>\n",
       "<table border=\"1\" class=\"dataframe\">\n",
       "  <thead>\n",
       "    <tr style=\"text-align: right;\">\n",
       "      <th></th>\n",
       "      <th>8</th>\n",
       "      <th>9</th>\n",
       "      <th>12</th>\n",
       "      <th>16</th>\n",
       "    </tr>\n",
       "  </thead>\n",
       "  <tbody>\n",
       "    <tr>\n",
       "      <td>Smartphone</td>\n",
       "      <td>87</td>\n",
       "      <td>61</td>\n",
       "      <td>92</td>\n",
       "      <td>175</td>\n",
       "    </tr>\n",
       "  </tbody>\n",
       "</table>\n",
       "</div>"
      ],
      "text/plain": [
       "            8   9   12   16\n",
       "Smartphone  87  61  92  175"
      ]
     },
     "execution_count": 650,
     "metadata": {},
     "output_type": "execute_result"
    }
   ],
   "source": [
    "print('Customers in Cluster 2:')\n",
    "pd.DataFrame(data.iloc[np.where(data.loc[:,'Cluster']==2)].iloc[:,0]).T"
   ]
  },
  {
   "cell_type": "code",
   "execution_count": 651,
   "metadata": {},
   "outputs": [
    {
     "name": "stdout",
     "output_type": "stream",
     "text": [
      "Customers in Cluster 3:\n"
     ]
    },
    {
     "data": {
      "text/html": [
       "<div>\n",
       "<style scoped>\n",
       "    .dataframe tbody tr th:only-of-type {\n",
       "        vertical-align: middle;\n",
       "    }\n",
       "\n",
       "    .dataframe tbody tr th {\n",
       "        vertical-align: top;\n",
       "    }\n",
       "\n",
       "    .dataframe thead th {\n",
       "        text-align: right;\n",
       "    }\n",
       "</style>\n",
       "<table border=\"1\" class=\"dataframe\">\n",
       "  <thead>\n",
       "    <tr style=\"text-align: right;\">\n",
       "      <th></th>\n",
       "      <th>11</th>\n",
       "      <th>15</th>\n",
       "      <th>17</th>\n",
       "    </tr>\n",
       "  </thead>\n",
       "  <tbody>\n",
       "    <tr>\n",
       "      <td>Smartphone</td>\n",
       "      <td>33</td>\n",
       "      <td>190</td>\n",
       "      <td>69</td>\n",
       "    </tr>\n",
       "  </tbody>\n",
       "</table>\n",
       "</div>"
      ],
      "text/plain": [
       "            11   15  17\n",
       "Smartphone  33  190  69"
      ]
     },
     "execution_count": 651,
     "metadata": {},
     "output_type": "execute_result"
    }
   ],
   "source": [
    "print('Customers in Cluster 3:')\n",
    "pd.DataFrame(data.iloc[np.where(data.loc[:,'Cluster']==3)].iloc[:,0]).T"
   ]
  },
  {
   "cell_type": "code",
   "execution_count": 652,
   "metadata": {},
   "outputs": [
    {
     "name": "stdout",
     "output_type": "stream",
     "text": [
      "Customers in Cluster 4:\n"
     ]
    },
    {
     "data": {
      "text/html": [
       "<div>\n",
       "<style scoped>\n",
       "    .dataframe tbody tr th:only-of-type {\n",
       "        vertical-align: middle;\n",
       "    }\n",
       "\n",
       "    .dataframe tbody tr th {\n",
       "        vertical-align: top;\n",
       "    }\n",
       "\n",
       "    .dataframe thead th {\n",
       "        text-align: right;\n",
       "    }\n",
       "</style>\n",
       "<table border=\"1\" class=\"dataframe\">\n",
       "  <thead>\n",
       "    <tr style=\"text-align: right;\">\n",
       "      <th></th>\n",
       "      <th>2</th>\n",
       "      <th>3</th>\n",
       "      <th>6</th>\n",
       "      <th>13</th>\n",
       "      <th>18</th>\n",
       "    </tr>\n",
       "  </thead>\n",
       "  <tbody>\n",
       "    <tr>\n",
       "      <td>Smartphone</td>\n",
       "      <td>650</td>\n",
       "      <td>560</td>\n",
       "      <td>600</td>\n",
       "      <td>151</td>\n",
       "      <td>109</td>\n",
       "    </tr>\n",
       "  </tbody>\n",
       "</table>\n",
       "</div>"
      ],
      "text/plain": [
       "             2    3    6    13   18\n",
       "Smartphone  650  560  600  151  109"
      ]
     },
     "execution_count": 652,
     "metadata": {},
     "output_type": "execute_result"
    }
   ],
   "source": [
    "print('Customers in Cluster 4:')\n",
    "pd.DataFrame(data.iloc[np.where(data.loc[:,'Cluster']==4)].iloc[:,0]).T"
   ]
  },
  {
   "cell_type": "markdown",
   "metadata": {},
   "source": [
    "**Fitting an agglomerative model using original data.**"
   ]
  },
  {
   "cell_type": "code",
   "execution_count": 653,
   "metadata": {},
   "outputs": [],
   "source": [
    "data.drop('Cluster',axis=1,inplace=True)"
   ]
  },
  {
   "cell_type": "code",
   "execution_count": 660,
   "metadata": {},
   "outputs": [],
   "source": [
    "cluster1 = AgglomerativeClustering(n_clusters=5, affinity='euclidean', linkage='complete')  \n",
    "cluster1.fit(data) #fitting on unscaled data\n",
    "data['Cluster']=cluster1.labels_"
   ]
  },
  {
   "cell_type": "code",
   "execution_count": 661,
   "metadata": {},
   "outputs": [
    {
     "name": "stdout",
     "output_type": "stream",
     "text": [
      "Customers in Cluster 0:\n"
     ]
    },
    {
     "data": {
      "text/html": [
       "<div>\n",
       "<style scoped>\n",
       "    .dataframe tbody tr th:only-of-type {\n",
       "        vertical-align: middle;\n",
       "    }\n",
       "\n",
       "    .dataframe tbody tr th {\n",
       "        vertical-align: top;\n",
       "    }\n",
       "\n",
       "    .dataframe thead th {\n",
       "        text-align: right;\n",
       "    }\n",
       "</style>\n",
       "<table border=\"1\" class=\"dataframe\">\n",
       "  <thead>\n",
       "    <tr style=\"text-align: right;\">\n",
       "      <th></th>\n",
       "      <th>1</th>\n",
       "      <th>4</th>\n",
       "      <th>5</th>\n",
       "    </tr>\n",
       "  </thead>\n",
       "  <tbody>\n",
       "    <tr>\n",
       "      <td>Smartphone</td>\n",
       "      <td>141</td>\n",
       "      <td>150</td>\n",
       "      <td>10</td>\n",
       "    </tr>\n",
       "  </tbody>\n",
       "</table>\n",
       "</div>"
      ],
      "text/plain": [
       "              1    4   5\n",
       "Smartphone  141  150  10"
      ]
     },
     "execution_count": 661,
     "metadata": {},
     "output_type": "execute_result"
    }
   ],
   "source": [
    "print('Customers in Cluster 0:')\n",
    "pd.DataFrame(data.iloc[np.where(data.loc[:,'Cluster']==0)].iloc[:,0]).T"
   ]
  },
  {
   "cell_type": "code",
   "execution_count": 662,
   "metadata": {},
   "outputs": [
    {
     "name": "stdout",
     "output_type": "stream",
     "text": [
      "Customers in Cluster 1:\n"
     ]
    },
    {
     "data": {
      "text/html": [
       "<div>\n",
       "<style scoped>\n",
       "    .dataframe tbody tr th:only-of-type {\n",
       "        vertical-align: middle;\n",
       "    }\n",
       "\n",
       "    .dataframe tbody tr th {\n",
       "        vertical-align: top;\n",
       "    }\n",
       "\n",
       "    .dataframe thead th {\n",
       "        text-align: right;\n",
       "    }\n",
       "</style>\n",
       "<table border=\"1\" class=\"dataframe\">\n",
       "  <thead>\n",
       "    <tr style=\"text-align: right;\">\n",
       "      <th></th>\n",
       "      <th>2</th>\n",
       "      <th>3</th>\n",
       "      <th>6</th>\n",
       "    </tr>\n",
       "  </thead>\n",
       "  <tbody>\n",
       "    <tr>\n",
       "      <td>Smartphone</td>\n",
       "      <td>650</td>\n",
       "      <td>560</td>\n",
       "      <td>600</td>\n",
       "    </tr>\n",
       "  </tbody>\n",
       "</table>\n",
       "</div>"
      ],
      "text/plain": [
       "              2    3    6\n",
       "Smartphone  650  560  600"
      ]
     },
     "execution_count": 662,
     "metadata": {},
     "output_type": "execute_result"
    }
   ],
   "source": [
    "print('Customers in Cluster 1:')\n",
    "pd.DataFrame(data.iloc[np.where(data.loc[:,'Cluster']==1)].iloc[:,0]).T"
   ]
  },
  {
   "cell_type": "code",
   "execution_count": 663,
   "metadata": {},
   "outputs": [
    {
     "name": "stdout",
     "output_type": "stream",
     "text": [
      "Customers in Cluster 2:\n"
     ]
    },
    {
     "data": {
      "text/html": [
       "<div>\n",
       "<style scoped>\n",
       "    .dataframe tbody tr th:only-of-type {\n",
       "        vertical-align: middle;\n",
       "    }\n",
       "\n",
       "    .dataframe tbody tr th {\n",
       "        vertical-align: top;\n",
       "    }\n",
       "\n",
       "    .dataframe thead th {\n",
       "        text-align: right;\n",
       "    }\n",
       "</style>\n",
       "<table border=\"1\" class=\"dataframe\">\n",
       "  <thead>\n",
       "    <tr style=\"text-align: right;\">\n",
       "      <th></th>\n",
       "      <th>0</th>\n",
       "      <th>7</th>\n",
       "      <th>8</th>\n",
       "      <th>9</th>\n",
       "      <th>10</th>\n",
       "      <th>11</th>\n",
       "      <th>12</th>\n",
       "      <th>13</th>\n",
       "      <th>14</th>\n",
       "      <th>18</th>\n",
       "      <th>19</th>\n",
       "    </tr>\n",
       "  </thead>\n",
       "  <tbody>\n",
       "    <tr>\n",
       "      <td>Smartphone</td>\n",
       "      <td>80</td>\n",
       "      <td>0</td>\n",
       "      <td>87</td>\n",
       "      <td>61</td>\n",
       "      <td>254</td>\n",
       "      <td>33</td>\n",
       "      <td>92</td>\n",
       "      <td>151</td>\n",
       "      <td>102</td>\n",
       "      <td>109</td>\n",
       "      <td>121</td>\n",
       "    </tr>\n",
       "  </tbody>\n",
       "</table>\n",
       "</div>"
      ],
      "text/plain": [
       "            0   7   8   9    10  11  12   13   14   18   19\n",
       "Smartphone  80   0  87  61  254  33  92  151  102  109  121"
      ]
     },
     "execution_count": 663,
     "metadata": {},
     "output_type": "execute_result"
    }
   ],
   "source": [
    "print('Customers in Cluster 2:')\n",
    "pd.DataFrame(data.iloc[np.where(data.loc[:,'Cluster']==2)].iloc[:,0]).T"
   ]
  },
  {
   "cell_type": "code",
   "execution_count": 664,
   "metadata": {},
   "outputs": [
    {
     "name": "stdout",
     "output_type": "stream",
     "text": [
      "Customers in Cluster 3:\n"
     ]
    },
    {
     "data": {
      "text/html": [
       "<div>\n",
       "<style scoped>\n",
       "    .dataframe tbody tr th:only-of-type {\n",
       "        vertical-align: middle;\n",
       "    }\n",
       "\n",
       "    .dataframe tbody tr th {\n",
       "        vertical-align: top;\n",
       "    }\n",
       "\n",
       "    .dataframe thead th {\n",
       "        text-align: right;\n",
       "    }\n",
       "</style>\n",
       "<table border=\"1\" class=\"dataframe\">\n",
       "  <thead>\n",
       "    <tr style=\"text-align: right;\">\n",
       "      <th></th>\n",
       "      <th>15</th>\n",
       "      <th>17</th>\n",
       "    </tr>\n",
       "  </thead>\n",
       "  <tbody>\n",
       "    <tr>\n",
       "      <td>Smartphone</td>\n",
       "      <td>190</td>\n",
       "      <td>69</td>\n",
       "    </tr>\n",
       "  </tbody>\n",
       "</table>\n",
       "</div>"
      ],
      "text/plain": [
       "             15  17\n",
       "Smartphone  190  69"
      ]
     },
     "execution_count": 664,
     "metadata": {},
     "output_type": "execute_result"
    }
   ],
   "source": [
    "print('Customers in Cluster 3:')\n",
    "pd.DataFrame(data.iloc[np.where(data.loc[:,'Cluster']==3)].iloc[:,0]).T"
   ]
  },
  {
   "cell_type": "code",
   "execution_count": 665,
   "metadata": {},
   "outputs": [
    {
     "name": "stdout",
     "output_type": "stream",
     "text": [
      "Customers in Cluster 4:\n"
     ]
    },
    {
     "data": {
      "text/html": [
       "<div>\n",
       "<style scoped>\n",
       "    .dataframe tbody tr th:only-of-type {\n",
       "        vertical-align: middle;\n",
       "    }\n",
       "\n",
       "    .dataframe tbody tr th {\n",
       "        vertical-align: top;\n",
       "    }\n",
       "\n",
       "    .dataframe thead th {\n",
       "        text-align: right;\n",
       "    }\n",
       "</style>\n",
       "<table border=\"1\" class=\"dataframe\">\n",
       "  <thead>\n",
       "    <tr style=\"text-align: right;\">\n",
       "      <th></th>\n",
       "      <th>16</th>\n",
       "    </tr>\n",
       "  </thead>\n",
       "  <tbody>\n",
       "    <tr>\n",
       "      <td>Smartphone</td>\n",
       "      <td>175</td>\n",
       "    </tr>\n",
       "  </tbody>\n",
       "</table>\n",
       "</div>"
      ],
      "text/plain": [
       "             16\n",
       "Smartphone  175"
      ]
     },
     "execution_count": 665,
     "metadata": {},
     "output_type": "execute_result"
    }
   ],
   "source": [
    "print('Customers in Cluster 4:')\n",
    "pd.DataFrame(data.iloc[np.where(data.loc[:,'Cluster']==4)].iloc[:,0]).T"
   ]
  },
  {
   "cell_type": "code",
   "execution_count": 613,
   "metadata": {},
   "outputs": [],
   "source": [
    "data.drop('Cluster',axis=1,inplace=True)"
   ]
  },
  {
   "cell_type": "markdown",
   "metadata": {},
   "source": [
    "### Comparing the two distance measures"
   ]
  },
  {
   "cell_type": "code",
   "execution_count": 625,
   "metadata": {},
   "outputs": [
    {
     "data": {
      "image/png": "[encoded data removed]",
      "text/plain": [
       "<Figure size 576x360 with 1 Axes>"
      ]
     },
     "metadata": {
      "needs_background": "light"
     },
     "output_type": "display_data"
    }
   ],
   "source": [
    "tran_d=data.T\n",
    "\n",
    "s1=sns.lineplot(tran_d.index,tran_d.iloc[:,6],color='blue',legend='full')\n",
    "s2=sns.lineplot(tran_d.index,tran_d.iloc[:,13],color='green',legend='full')\n",
    "s3=sns.lineplot(tran_d.index,tran_d.iloc[:,7],color='red')\n",
    "plt.show()"
   ]
  },
  {
   "cell_type": "markdown",
   "metadata": {},
   "source": [
    "**Observation-**\n",
    "Using Euclidean distance, customer 7(red) and customer 13(green) gets clustered together as they are both light buyers.  \n",
    "Using Correlation based distance, customer 6(blue) and customer 13(green) gets clustered together because they same purchase patterns."
   ]
  },
  {
   "cell_type": "code",
   "execution_count": 629,
   "metadata": {},
   "outputs": [
    {
     "data": {
      "image/png": "[encoded data removed]",
      "text/plain": [
       "<Figure size 576x360 with 1 Axes>"
      ]
     },
     "metadata": {
      "needs_background": "light"
     },
     "output_type": "display_data"
    }
   ],
   "source": [
    "sns.lineplot(tran_d.index,tran_d.iloc[:,11],color='green')\n",
    "sns.lineplot(tran_d.index,tran_d.iloc[:,17],color='blue')\n",
    "sns.lineplot(tran_d.index,tran_d.iloc[:,13],color='red')\n",
    "plt.show()"
   ]
  },
  {
   "cell_type": "markdown",
   "metadata": {},
   "source": [
    "**Observation-**\n",
    "Using Euclidean distance, customer 13(red) and customer 11(green) gets clustered together as they are both light buyers.  \n",
    "Using Correlation based distance, customer 17(blue) and customer 11(green) gets clustered together because they same purchase patterns."
   ]
  },
  {
   "cell_type": "code",
   "execution_count": 632,
   "metadata": {},
   "outputs": [
    {
     "data": {
      "image/png": "[encoded data removed]",
      "text/plain": [
       "<Figure size 576x360 with 1 Axes>"
      ]
     },
     "metadata": {
      "needs_background": "light"
     },
     "output_type": "display_data"
    }
   ],
   "source": [
    "sns.lineplot(tran_d.index,tran_d.iloc[:,4],color='blue')\n",
    "sns.lineplot(tran_d.index,tran_d.iloc[:,7],color='green')\n",
    "sns.lineplot(tran_d.index,tran_d.iloc[:,19],color='red')\n",
    "plt.show()"
   ]
  },
  {
   "cell_type": "markdown",
   "metadata": {},
   "source": [
    "**Observation-**\n",
    "Using Euclidean distance, customer 19(red) and customer 7(green) gets clustered together as they are both light buyers.  \n",
    "Using Correlation based distance, customer 4(blue) and customer 7(green) gets clustered together because they same purchase patterns."
   ]
  },
  {
   "cell_type": "markdown",
   "metadata": {},
   "source": [
    "## Conclusion\n",
    "- We observe that the customers with similar buying patterns gets clustered together like customer4 and customer7 for correlation based distance similarity,whereas,in case of euclidean distance customers gets clustered together with respect to the volume of their transactions."
   ]
  }
 ],
 "metadata": {
  "kernelspec": {
   "display_name": "Python 3",
   "language": "python",
   "name": "python3"
  },
  "language_info": {
   "codemirror_mode": {
    "name": "ipython",
    "version": 3
   },
   "file_extension": ".py",
   "mimetype": "text/x-python",
   "name": "python",
   "nbconvert_exporter": "python",
   "pygments_lexer": "ipython3",
   "version": "3.7.4"
  }
 },
 "nbformat": 4,
 "nbformat_minor": 2
}
