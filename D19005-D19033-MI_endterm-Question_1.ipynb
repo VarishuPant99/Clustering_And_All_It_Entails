{
 "cells": [
  {
   "cell_type": "markdown",
   "metadata": {},
   "source": [
    "**Ankit Sekseria**<br>\n",
    "**D19005**<br>\n",
    "**Varishu Pant**<br>\n",
    "**D19033**"
   ]
  },
  {
   "cell_type": "markdown",
   "metadata": {},
   "source": [
    "## Question 1:\n",
    "*Read the context carefully:*<br>\n",
    "The term hierarchical refers to the fact that clusters obtained by cutting the dendrogram at a given height are necessarily nested within the clusters obtained by cutting the dendrogram at any greater height. However, on an arbitrary data set, this assumption of hierarchical structure might be unrealistic. For instance, suppose that our observations correspond to a group of people with a 50–50 split of males and females, evenly split among Americans, Japanese, and French. We can imagine a scenario in which the best division into two groups might split these people by gender, and the best division into three groups might split them by nationality. In this case, the true clusters are not nested, in the sense that the best division into three groups does not result from taking the best division into two groups and splitting up one of those groups. Consequently, this situation could not be well-represented by hierarchical clustering. Due to situations such as this one, hierarchical clustering can sometimes yield worse (i.e. less accurate) results than K-means clustering for a given number of clusters.\n",
    "*The above context states a very important limitation of hierarchical clustering algorithm. Perform an experiment with simulated data or data of your selection to validate the above concept. (Note that you will not be judged based on the complexity of the data you are working with. Remember that, simpler the data better the explanation you can give. You will be marked based on the clarity of your communication and presentation). Include all necessary results.*"
   ]
  },
  {
   "cell_type": "code",
   "execution_count": 2,
   "metadata": {},
   "outputs": [],
   "source": [
    "import pandas as pd\n",
    "import numpy as np\n",
    "import matplotlib.pyplot as plt\n",
    "import seaborn as sns\n",
    "import scipy"
   ]
  },
  {
   "cell_type": "code",
   "execution_count": 3,
   "metadata": {},
   "outputs": [],
   "source": [
    "ethnic= pd.read_csv('ethnic.csv',encoding='utf-8')    #loading data\n",
    "ethnic_cpy=ethnic.copy()"
   ]
  },
  {
   "cell_type": "code",
   "execution_count": 4,
   "metadata": {},
   "outputs": [
    {
     "data": {
      "text/html": [
       "<div>\n",
       "<style scoped>\n",
       "    .dataframe tbody tr th:only-of-type {\n",
       "        vertical-align: middle;\n",
       "    }\n",
       "\n",
       "    .dataframe tbody tr th {\n",
       "        vertical-align: top;\n",
       "    }\n",
       "\n",
       "    .dataframe thead th {\n",
       "        text-align: right;\n",
       "    }\n",
       "</style>\n",
       "<table border=\"1\" class=\"dataframe\">\n",
       "  <thead>\n",
       "    <tr style=\"text-align: right;\">\n",
       "      <th></th>\n",
       "      <th>Gender</th>\n",
       "      <th>Country</th>\n",
       "    </tr>\n",
       "  </thead>\n",
       "  <tbody>\n",
       "    <tr>\n",
       "      <td>0</td>\n",
       "      <td>Male</td>\n",
       "      <td>American</td>\n",
       "    </tr>\n",
       "    <tr>\n",
       "      <td>1</td>\n",
       "      <td>Male</td>\n",
       "      <td>American</td>\n",
       "    </tr>\n",
       "    <tr>\n",
       "      <td>2</td>\n",
       "      <td>Male</td>\n",
       "      <td>American</td>\n",
       "    </tr>\n",
       "    <tr>\n",
       "      <td>3</td>\n",
       "      <td>Male</td>\n",
       "      <td>American</td>\n",
       "    </tr>\n",
       "    <tr>\n",
       "      <td>4</td>\n",
       "      <td>Male</td>\n",
       "      <td>American</td>\n",
       "    </tr>\n",
       "  </tbody>\n",
       "</table>\n",
       "</div>"
      ],
      "text/plain": [
       "  Gender   Country\n",
       "0   Male  American\n",
       "1   Male  American\n",
       "2   Male  American\n",
       "3   Male  American\n",
       "4   Male  American"
      ]
     },
     "execution_count": 4,
     "metadata": {},
     "output_type": "execute_result"
    }
   ],
   "source": [
    "ethnic.head()  "
   ]
  },
  {
   "cell_type": "code",
   "execution_count": 5,
   "metadata": {},
   "outputs": [
    {
     "name": "stdout",
     "output_type": "stream",
     "text": [
      "Distribution of Gender\n",
      " Female    45\n",
      "Male      45\n",
      "Name: Gender, dtype: int64\n",
      "Distribution of Country\n",
      " Japanese    30\n",
      "American    30\n",
      "French      30\n",
      "Name: Country, dtype: int64\n"
     ]
    }
   ],
   "source": [
    "print('Distribution of Gender\\n',ethnic.Gender.value_counts()) #distribution of gender\n",
    "print('Distribution of Country\\n',ethnic.Country.value_counts()) #distribution of country"
   ]
  },
  {
   "cell_type": "markdown",
   "metadata": {},
   "source": [
    "We have 50% males and 50% females. Same proportion(33.33%) of ethicity for Country."
   ]
  },
  {
   "cell_type": "code",
   "execution_count": 6,
   "metadata": {},
   "outputs": [
    {
     "data": {
      "text/html": [
       "<div>\n",
       "<style scoped>\n",
       "    .dataframe tbody tr th:only-of-type {\n",
       "        vertical-align: middle;\n",
       "    }\n",
       "\n",
       "    .dataframe tbody tr th {\n",
       "        vertical-align: top;\n",
       "    }\n",
       "\n",
       "    .dataframe thead th {\n",
       "        text-align: right;\n",
       "    }\n",
       "</style>\n",
       "<table border=\"1\" class=\"dataframe\">\n",
       "  <thead>\n",
       "    <tr style=\"text-align: right;\">\n",
       "      <th></th>\n",
       "      <th>Gender</th>\n",
       "      <th>Country</th>\n",
       "    </tr>\n",
       "  </thead>\n",
       "  <tbody>\n",
       "    <tr>\n",
       "      <td>0</td>\n",
       "      <td>0</td>\n",
       "      <td>0</td>\n",
       "    </tr>\n",
       "    <tr>\n",
       "      <td>1</td>\n",
       "      <td>0</td>\n",
       "      <td>0</td>\n",
       "    </tr>\n",
       "    <tr>\n",
       "      <td>2</td>\n",
       "      <td>0</td>\n",
       "      <td>0</td>\n",
       "    </tr>\n",
       "    <tr>\n",
       "      <td>3</td>\n",
       "      <td>0</td>\n",
       "      <td>0</td>\n",
       "    </tr>\n",
       "    <tr>\n",
       "      <td>4</td>\n",
       "      <td>0</td>\n",
       "      <td>0</td>\n",
       "    </tr>\n",
       "  </tbody>\n",
       "</table>\n",
       "</div>"
      ],
      "text/plain": [
       "   Gender  Country\n",
       "0       0        0\n",
       "1       0        0\n",
       "2       0        0\n",
       "3       0        0\n",
       "4       0        0"
      ]
     },
     "execution_count": 6,
     "metadata": {},
     "output_type": "execute_result"
    }
   ],
   "source": [
    "ethnic.Gender=ethnic.Gender.map({'Male':0,'Female':1})   #label encoding Gender.\n",
    "ethnic.Country=ethnic.Country.map({'American':0,'Japanese':1,'French':2})  #label encoding Country.\n",
    "ethnic.head()"
   ]
  },
  {
   "cell_type": "markdown",
   "metadata": {},
   "source": [
    "## Heirarchical Clustering"
   ]
  },
  {
   "cell_type": "markdown",
   "metadata": {},
   "source": [
    "#### Visualising Dendogram"
   ]
  },
  {
   "cell_type": "code",
   "execution_count": 12,
   "metadata": {},
   "outputs": [
    {
     "data": {
      "image/png": "[encoded data removed]",
      "text/plain": [
       "<Figure size 1800x360 with 1 Axes>"
      ]
     },
     "metadata": {
      "needs_background": "light"
     },
     "output_type": "display_data"
    }
   ],
   "source": [
    "plt.rcParams['figure.figsize'] = [25, 5]\n",
    "\n",
    "from scipy.cluster.hierarchy import dendrogram, linkage\n",
    "Z = linkage(ethnic, 'complete',metric='euclidean')\n",
    "dendrogram(Z,leaf_rotation=90, leaf_font_size=15)\n",
    "plt.title(\"Dendrogram\")\n",
    "plt.xlabel('Cluster Size')\n",
    "plt.ylabel('Distance')\n",
    "\n",
    "plt.show()"
   ]
  },
  {
   "cell_type": "markdown",
   "metadata": {},
   "source": [
    "#### Observation\n",
    "- Here we can see that there are 4 subsets of 2 larger sets.\n",
    "- We are expecting two cluster of Gender(Male and female) and 3 clusters based country they belong,but here the case is different in heirarchical clustering the subgroup formed after clustering is homogeneous.<br>\n",
    "*Let us verify this with demonstrations shown below:*"
   ]
  },
  {
   "cell_type": "markdown",
   "metadata": {},
   "source": [
    "#### Applying Agglomerative Clustering for 2 clusters\n",
    "- Our Expectation is get two clusters based on Gender."
   ]
  },
  {
   "cell_type": "code",
   "execution_count": 54,
   "metadata": {},
   "outputs": [
    {
     "data": {
      "text/plain": [
       "AgglomerativeClustering(affinity='euclidean', compute_full_tree='auto',\n",
       "                        connectivity=None, distance_threshold=None,\n",
       "                        linkage='complete', memory=None, n_clusters=2,\n",
       "                        pooling_func='deprecated')"
      ]
     },
     "execution_count": 54,
     "metadata": {},
     "output_type": "execute_result"
    }
   ],
   "source": [
    "from sklearn.cluster import AgglomerativeClustering  \n",
    "hclust = AgglomerativeClustering(n_clusters=2, affinity='euclidean', linkage='complete') #euclidean\n",
    "hclust.fit(ethnic)  #fitting the data"
   ]
  },
  {
   "cell_type": "code",
   "execution_count": 55,
   "metadata": {},
   "outputs": [
    {
     "data": {
      "image/png": "[encoded data removed]",
      "text/plain": [
       "<matplotlib.figure.Figure at 0x14427d070b8>"
      ]
     },
     "metadata": {},
     "output_type": "display_data"
    }
   ],
   "source": [
    "#visualising dendogram for two clusters\n",
    "from scipy.cluster.hierarchy import dendrogram, linkage\n",
    "Z = linkage(ethnic, 'complete',metric='euclidean')\n",
    "dendrogram(Z,truncate_mode='lastp',p=2,leaf_rotation=90, leaf_font_size=15.) #n_clusters=2\n",
    "plt.title(\"Truncated Dendrogram\")\n",
    "plt.xlabel('Cluster Size')\n",
    "plt.ylabel('Distance')\n",
    "plt.show()"
   ]
  },
  {
   "cell_type": "code",
   "execution_count": 56,
   "metadata": {},
   "outputs": [],
   "source": [
    "ethnic_cpy['heir_2']=hclust.labels_ #assigning labels"
   ]
  },
  {
   "cell_type": "code",
   "execution_count": 57,
   "metadata": {},
   "outputs": [
    {
     "data": {
      "image/png": "[encoded data removed]",
      "text/plain": [
       "<matplotlib.figure.Figure at 0x1442771f550>"
      ]
     },
     "metadata": {},
     "output_type": "display_data"
    }
   ],
   "source": [
    "#ploting crosstab\n",
    "tab=pd.crosstab(ethnic_cpy.Gender,ethnic_cpy.heir_2,margins=True).sort_values('All',ascending=False)\n",
    "tab = tab.drop('All',axis=1)\n",
    "tab = tab.drop('All',axis=0)\n",
    "sns.heatmap(tab,annot=True)\n",
    "plt.xlabel('Clusters')\n",
    "plt.show()"
   ]
  },
  {
   "cell_type": "markdown",
   "metadata": {},
   "source": [
    "#### Observations\n",
    "- We can clearly see that we  have two separate clusters formed based on Gender.\n",
    "- Cluster 0  has all females and Cluster 1 has all males."
   ]
  },
  {
   "cell_type": "markdown",
   "metadata": {},
   "source": [
    "*Let's see what happens when we divide the cluster into 3 groups,our expectation is to get 3 clusters, grouped based on the<br> Country they belong to*."
   ]
  },
  {
   "cell_type": "markdown",
   "metadata": {},
   "source": [
    "#### Applying Agglomerative Clustering for 3 clusters\n",
    "- Our Expectation is get three clusters based on the country they belong to."
   ]
  },
  {
   "cell_type": "code",
   "execution_count": 58,
   "metadata": {},
   "outputs": [
    {
     "data": {
      "text/plain": [
       "AgglomerativeClustering(affinity='euclidean', compute_full_tree='auto',\n",
       "                        connectivity=None, distance_threshold=None,\n",
       "                        linkage='complete', memory=None, n_clusters=3,\n",
       "                        pooling_func='deprecated')"
      ]
     },
     "execution_count": 58,
     "metadata": {},
     "output_type": "execute_result"
    }
   ],
   "source": [
    "from sklearn.cluster import AgglomerativeClustering  #heirarchical clustering\n",
    "hclust = AgglomerativeClustering(n_clusters=3, affinity='euclidean', linkage='complete') #euclidean for 3 clusters\n",
    "hclust.fit(ethnic)"
   ]
  },
  {
   "cell_type": "code",
   "execution_count": 59,
   "metadata": {},
   "outputs": [
    {
     "data": {
      "image/png": "[encoded data removed]",
      "text/plain": [
       "<matplotlib.figure.Figure at 0x1442788e630>"
      ]
     },
     "metadata": {},
     "output_type": "display_data"
    }
   ],
   "source": [
    "from scipy.cluster.hierarchy import dendrogram, linkage \n",
    "Z = linkage(ethnic, 'complete',metric='euclidean') #linkage=complete\n",
    "dendrogram(Z,truncate_mode='lastp',p=3,leaf_rotation=90, leaf_font_size=15.) #n_clusters=3\n",
    "plt.title(\"Truncated Dendrogram\")\n",
    "plt.xlabel('Cluster Size')\n",
    "plt.ylabel('Distance')\n",
    "plt.show()"
   ]
  },
  {
   "cell_type": "code",
   "execution_count": 60,
   "metadata": {},
   "outputs": [
    {
     "data": {
      "text/plain": [
       "0    45\n",
       "1    30\n",
       "2    15\n",
       "Name: heir_3, dtype: int64"
      ]
     },
     "execution_count": 60,
     "metadata": {},
     "output_type": "execute_result"
    }
   ],
   "source": [
    "ethnic_cpy['heir_3']=hclust.labels_  #assigning labels for number of cluster as 3.\n",
    "ethnic_cpy.heir_3.value_counts()"
   ]
  },
  {
   "cell_type": "code",
   "execution_count": 61,
   "metadata": {
    "scrolled": false
   },
   "outputs": [
    {
     "data": {
      "image/png": "[encoded data removed]",
      "text/plain": [
       "<matplotlib.figure.Figure at 0x14427fb2898>"
      ]
     },
     "metadata": {},
     "output_type": "display_data"
    }
   ],
   "source": [
    "tab=pd.crosstab(ethnic_cpy.Country,ethnic_cpy.heir_3,margins=True).sort_values('All',ascending=False)\n",
    "tab = tab.drop('All',axis=1)\n",
    "tab = tab.drop('All',axis=0)\n",
    "sns.heatmap(tab,annot=True)\n",
    "plt.xlabel('Clusters')\n",
    "plt.show()"
   ]
  },
  {
   "cell_type": "markdown",
   "metadata": {},
   "source": [
    "#### Observations\n",
    "- We can see that cluster1 has French people,whereas Cluster2 and Cluster0 fails to capture a particular ethnicity.\n",
    "- Cluster0 has Japanese and American, Cluster2 has only half of the Japanese people.\n",
    "- So,Heirachical clustering fails to identify nested subgroups."
   ]
  },
  {
   "cell_type": "markdown",
   "metadata": {},
   "source": [
    "## KMeans Clustering"
   ]
  },
  {
   "cell_type": "markdown",
   "metadata": {},
   "source": [
    "#### Applying KMeans Clustering for 2 clusters\n",
    "- Our Expectation is get two clusters based on Gender."
   ]
  },
  {
   "cell_type": "code",
   "execution_count": 62,
   "metadata": {
    "scrolled": true
   },
   "outputs": [
    {
     "data": {
      "text/plain": [
       "KMeans(algorithm='auto', copy_x=True, init='k-means++', max_iter=300,\n",
       "       n_clusters=2, n_init=10, n_jobs=None, precompute_distances='auto',\n",
       "       random_state=None, tol=0.0001, verbose=0)"
      ]
     },
     "execution_count": 62,
     "metadata": {},
     "output_type": "execute_result"
    }
   ],
   "source": [
    "from sklearn.cluster import KMeans #importing KMeans\n",
    "kmeans = KMeans(n_clusters=2) #Kmeans for 2 clusters\n",
    "kmeans.fit(ethnic)"
   ]
  },
  {
   "cell_type": "code",
   "execution_count": 63,
   "metadata": {},
   "outputs": [],
   "source": [
    "ethnic_cpy['kmeans_2']=kmeans.labels_  #assigning labels for custers formed."
   ]
  },
  {
   "cell_type": "code",
   "execution_count": 64,
   "metadata": {},
   "outputs": [
    {
     "data": {
      "image/png": "[encoded data removed]",
      "text/plain": [
       "<matplotlib.figure.Figure at 0x14427702eb8>"
      ]
     },
     "metadata": {},
     "output_type": "display_data"
    }
   ],
   "source": [
    "#ploting crosstab\n",
    "tab=pd.crosstab(ethnic_cpy.Gender,ethnic_cpy.kmeans_2,margins=True).sort_values('All',ascending=False)\n",
    "tab = tab.drop('All',axis=1)\n",
    "tab = tab.drop('All',axis=0)\n",
    "sns.heatmap(tab,annot=True)\n",
    "plt.xlabel('Clusters')\n",
    "plt.show()"
   ]
  },
  {
   "cell_type": "markdown",
   "metadata": {},
   "source": [
    "#### Observations\n",
    "- We can clearly see that we  have two separate clusters formed based on Gender.\n",
    "- Cluster 0  has all females and Cluster 1 has all males."
   ]
  },
  {
   "cell_type": "markdown",
   "metadata": {},
   "source": [
    "*Let's see what happens when we divide the cluster into 3 groups,our expectation is to get 3 clusters, grouped based on the<br> Country they belong to*."
   ]
  },
  {
   "cell_type": "markdown",
   "metadata": {},
   "source": [
    "#### Applying KMeans Clustering for 3 clusters\n",
    "- Our Expectation is get three clusters based on the country they belong to."
   ]
  },
  {
   "cell_type": "code",
   "execution_count": 65,
   "metadata": {},
   "outputs": [
    {
     "data": {
      "text/plain": [
       "KMeans(algorithm='auto', copy_x=True, init='k-means++', max_iter=300,\n",
       "       n_clusters=3, n_init=10, n_jobs=None, precompute_distances='auto',\n",
       "       random_state=None, tol=0.0001, verbose=0)"
      ]
     },
     "execution_count": 65,
     "metadata": {},
     "output_type": "execute_result"
    }
   ],
   "source": [
    "from sklearn.cluster import KMeans\n",
    "kmeans = KMeans(n_clusters=3)  #for 3 clusters\n",
    "kmeans.fit(ethnic)"
   ]
  },
  {
   "cell_type": "code",
   "execution_count": 66,
   "metadata": {},
   "outputs": [],
   "source": [
    "ethnic_cpy['kmeans_3']=kmeans.labels_  #assigning labels"
   ]
  },
  {
   "cell_type": "code",
   "execution_count": 67,
   "metadata": {},
   "outputs": [
    {
     "data": {
      "image/png": "[encoded data removed]",
      "text/plain": [
       "<matplotlib.figure.Figure at 0x14427c4f080>"
      ]
     },
     "metadata": {},
     "output_type": "display_data"
    }
   ],
   "source": [
    "#ploting crosstab\n",
    "tab=pd.crosstab(ethnic_cpy.Country,ethnic_cpy.kmeans_3,margins=True).sort_values('All',ascending=False)\n",
    "tab = tab.drop('All',axis=1)\n",
    "tab = tab.drop('All',axis=0)\n",
    "sns.heatmap(tab,annot=True)\n",
    "plt.xlabel('Clusters')\n",
    "plt.show()"
   ]
  },
  {
   "cell_type": "markdown",
   "metadata": {},
   "source": [
    "#### Observations\n",
    "- We can see that cluster1 has American people.\n",
    "- Cluster2 has all French people.\n",
    "- Cluster0 has all 30 Japanese people."
   ]
  },
  {
   "cell_type": "markdown",
   "metadata": {},
   "source": [
    "## Conclusion\n",
    "- Kmeans does a good job with respect to Heirarchical Clustering in forming ideal groups.\n",
    "- For identifing nested subgroups,Heirarchical clustering fails but kmeans is able to identify those subgroups(in here,country they belong to)."
   ]
  }
 ],
 "metadata": {
  "kernelspec": {
   "display_name": "Python 3",
   "language": "python",
   "name": "python3"
  },
  "language_info": {
   "codemirror_mode": {
    "name": "ipython",
    "version": 3
   },
   "file_extension": ".py",
   "mimetype": "text/x-python",
   "name": "python",
   "nbconvert_exporter": "python",
   "pygments_lexer": "ipython3",
   "version": "3.7.4"
  }
 },
 "nbformat": 4,
 "nbformat_minor": 2
}
